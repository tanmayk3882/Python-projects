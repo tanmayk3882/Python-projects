{
 "cells": [
  {
   "cell_type": "code",
   "execution_count": 1,
   "id": "068de7e6-25b6-44f2-990a-8f1792a57052",
   "metadata": {},
   "outputs": [
    {
     "name": "stdout",
     "output_type": "stream",
     "text": [
      "Available currencies:\n",
      "- USD\n",
      "- INR\n",
      "- CAD\n",
      "- AUD\n",
      "- AED\n",
      "- GBP\n",
      "- EUR\n"
     ]
    },
    {
     "name": "stdin",
     "output_type": "stream",
     "text": [
      "\n",
      "Enter amount:  100\n",
      "From currency:  inr\n",
      "To currency:  usd\n"
     ]
    },
    {
     "name": "stdout",
     "output_type": "stream",
     "text": [
      "\n",
      "100.00 INR = 1.20 USD\n"
     ]
    }
   ],
   "source": [
    "rates = {\n",
    "    'USD': 1.0,\n",
    "    'INR': 83.20,\n",
    "    'CAD': 1.35,\n",
    "    'AUD': 1.50,\n",
    "    'AED': 3.67,\n",
    "    'GBP': 0.78,\n",
    "    'EUR': 0.91\n",
    "}\n",
    "print(\"Available currencies:\")\n",
    "for key in rates:\n",
    "    print(\"-\", key)\n",
    "amount = float(input(\"\\nEnter amount: \"))\n",
    "from_currency = input(\"From currency: \").upper()\n",
    "to_currency = input(\"To currency: \").upper()\n",
    "if from_currency in rates and to_currency in rates:\n",
    "    usd = amount / rates[from_currency]\n",
    "    converted = usd * rates[to_currency]\n",
    "    print(f\"\\n{amount:.2f} {from_currency} = {converted:.2f} {to_currency}\")\n",
    "else:\n",
    "    print(\"\\nInvalid currency entered.\")\n"
   ]
  }
 ],
 "metadata": {
  "kernelspec": {
   "display_name": "Python 3 (ipykernel)",
   "language": "python",
   "name": "python3"
  },
  "language_info": {
   "codemirror_mode": {
    "name": "ipython",
    "version": 3
   },
   "file_extension": ".py",
   "mimetype": "text/x-python",
   "name": "python",
   "nbconvert_exporter": "python",
   "pygments_lexer": "ipython3",
   "version": "3.12.7"
  }
 },
 "nbformat": 4,
 "nbformat_minor": 5
}
